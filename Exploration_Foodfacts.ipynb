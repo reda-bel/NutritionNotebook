{
 "cells": [
  {
   "cell_type": "code",
   "execution_count": 19,
   "metadata": {},
   "outputs": [],
   "source": [
    "# coding: utf-8\n",
    "%matplotlib inline\n",
    "import warnings # current version of seaborn generates a bunch of warnings that we'll ignore\n",
    "warnings.filterwarnings(\"ignore\")\n",
    "import seaborn as sbn\n",
    "import matplotlib.pyplot as plt\n",
    "import pandas as pd\n",
    "# read the csv file\n",
    "df = pd.read_csv(\"cleaned_foodfacts.csv\", sep='\\t',low_memory=False)\n"
   ]
  },
  {
   "cell_type": "code",
   "execution_count": 20,
   "metadata": {},
   "outputs": [
    {
     "name": "stdout",
     "output_type": "stream",
     "text": [
      "(320685, 28)\n",
      "Index(['code', 'product_name', 'brands', 'brands_tags', 'categories',\n",
      "       'categories_fr', 'origins', 'manufacturing_places', 'countries',\n",
      "       'countries_tags', 'countries_fr', 'ingredients_text', 'additives_n',\n",
      "       'additives', 'ingredients_from_palm_oil_n',\n",
      "       'ingredients_that_may_be_from_palm_oil_n', 'nutrition_grade_fr',\n",
      "       'energy_100g', 'fat_100g', 'saturated-fat_100g', 'carbohydrates_100g',\n",
      "       'sugars_100g', 'fiber_100g', 'proteins_100g', 'salt_100g',\n",
      "       'sodium_100g', 'nutrition-score-fr_100g', 'nutrition-score-uk_100g'],\n",
      "      dtype='object')\n"
     ]
    }
   ],
   "source": [
    "# Print the shape of df\n",
    "print(df.shape)\n",
    "\n",
    "# Print the columns of df\n",
    "print(df.columns)"
   ]
  },
  {
   "cell_type": "code",
   "execution_count": 21,
   "metadata": {},
   "outputs": [],
   "source": [
    "##Observe the numerical data in the dataframe"
   ]
  },
  {
   "cell_type": "code",
   "execution_count": 22,
   "metadata": {},
   "outputs": [
    {
     "data": {
      "text/html": [
       "<style  type=\"text/css\" >\n",
       "</style>  \n",
       "<table id=\"T_ab5f485e_2f76_11e8_b2a2_f46d043d872d\" > \n",
       "<thead>    <tr> \n",
       "        <th class=\"blank level0\" ></th> \n",
       "        <th class=\"col_heading level0 col0\" >additives_n</th> \n",
       "        <th class=\"col_heading level0 col1\" >ingredients_from_palm_oil_n</th> \n",
       "        <th class=\"col_heading level0 col2\" >ingredients_that_may_be_from_palm_oil_n</th> \n",
       "        <th class=\"col_heading level0 col3\" >energy_100g</th> \n",
       "        <th class=\"col_heading level0 col4\" >fat_100g</th> \n",
       "        <th class=\"col_heading level0 col5\" >saturated-fat_100g</th> \n",
       "        <th class=\"col_heading level0 col6\" >carbohydrates_100g</th> \n",
       "        <th class=\"col_heading level0 col7\" >sugars_100g</th> \n",
       "        <th class=\"col_heading level0 col8\" >fiber_100g</th> \n",
       "        <th class=\"col_heading level0 col9\" >proteins_100g</th> \n",
       "        <th class=\"col_heading level0 col10\" >salt_100g</th> \n",
       "        <th class=\"col_heading level0 col11\" >sodium_100g</th> \n",
       "        <th class=\"col_heading level0 col12\" >nutrition-score-fr_100g</th> \n",
       "        <th class=\"col_heading level0 col13\" >nutrition-score-uk_100g</th> \n",
       "    </tr></thead> \n",
       "<tbody>    <tr> \n",
       "        <th id=\"T_ab5f485e_2f76_11e8_b2a2_f46d043d872dlevel0_row0\" class=\"row_heading level0 row0\" >count</th> \n",
       "        <td id=\"T_ab5f485e_2f76_11e8_b2a2_f46d043d872drow0_col0\" class=\"data row0 col0\" >248939</td> \n",
       "        <td id=\"T_ab5f485e_2f76_11e8_b2a2_f46d043d872drow0_col1\" class=\"data row0 col1\" >248939</td> \n",
       "        <td id=\"T_ab5f485e_2f76_11e8_b2a2_f46d043d872drow0_col2\" class=\"data row0 col2\" >248939</td> \n",
       "        <td id=\"T_ab5f485e_2f76_11e8_b2a2_f46d043d872drow0_col3\" class=\"data row0 col3\" >261113</td> \n",
       "        <td id=\"T_ab5f485e_2f76_11e8_b2a2_f46d043d872drow0_col4\" class=\"data row0 col4\" >243887</td> \n",
       "        <td id=\"T_ab5f485e_2f76_11e8_b2a2_f46d043d872drow0_col5\" class=\"data row0 col5\" >229551</td> \n",
       "        <td id=\"T_ab5f485e_2f76_11e8_b2a2_f46d043d872drow0_col6\" class=\"data row0 col6\" >243569</td> \n",
       "        <td id=\"T_ab5f485e_2f76_11e8_b2a2_f46d043d872drow0_col7\" class=\"data row0 col7\" >244952</td> \n",
       "        <td id=\"T_ab5f485e_2f76_11e8_b2a2_f46d043d872drow0_col8\" class=\"data row0 col8\" >200881</td> \n",
       "        <td id=\"T_ab5f485e_2f76_11e8_b2a2_f46d043d872drow0_col9\" class=\"data row0 col9\" >259918</td> \n",
       "        <td id=\"T_ab5f485e_2f76_11e8_b2a2_f46d043d872drow0_col10\" class=\"data row0 col10\" >255352</td> \n",
       "        <td id=\"T_ab5f485e_2f76_11e8_b2a2_f46d043d872drow0_col11\" class=\"data row0 col11\" >255429</td> \n",
       "        <td id=\"T_ab5f485e_2f76_11e8_b2a2_f46d043d872drow0_col12\" class=\"data row0 col12\" >221210</td> \n",
       "        <td id=\"T_ab5f485e_2f76_11e8_b2a2_f46d043d872drow0_col13\" class=\"data row0 col13\" >221210</td> \n",
       "    </tr>    <tr> \n",
       "        <th id=\"T_ab5f485e_2f76_11e8_b2a2_f46d043d872dlevel0_row1\" class=\"row_heading level0 row1\" >mean</th> \n",
       "        <td id=\"T_ab5f485e_2f76_11e8_b2a2_f46d043d872drow1_col0\" class=\"data row1 col0\" >1.93602</td> \n",
       "        <td id=\"T_ab5f485e_2f76_11e8_b2a2_f46d043d872drow1_col1\" class=\"data row1 col1\" >0.0196594</td> \n",
       "        <td id=\"T_ab5f485e_2f76_11e8_b2a2_f46d043d872drow1_col2\" class=\"data row1 col2\" >0.0552465</td> \n",
       "        <td id=\"T_ab5f485e_2f76_11e8_b2a2_f46d043d872drow1_col3\" class=\"data row1 col3\" >1141.91</td> \n",
       "        <td id=\"T_ab5f485e_2f76_11e8_b2a2_f46d043d872drow1_col4\" class=\"data row1 col4\" >12.7253</td> \n",
       "        <td id=\"T_ab5f485e_2f76_11e8_b2a2_f46d043d872drow1_col5\" class=\"data row1 col5\" >5.12592</td> \n",
       "        <td id=\"T_ab5f485e_2f76_11e8_b2a2_f46d043d872drow1_col6\" class=\"data row1 col6\" >32.0553</td> \n",
       "        <td id=\"T_ab5f485e_2f76_11e8_b2a2_f46d043d872drow1_col7\" class=\"data row1 col7\" >15.9854</td> \n",
       "        <td id=\"T_ab5f485e_2f76_11e8_b2a2_f46d043d872drow1_col8\" class=\"data row1 col8\" >2.83247</td> \n",
       "        <td id=\"T_ab5f485e_2f76_11e8_b2a2_f46d043d872drow1_col9\" class=\"data row1 col9\" >7.07941</td> \n",
       "        <td id=\"T_ab5f485e_2f76_11e8_b2a2_f46d043d872drow1_col10\" class=\"data row1 col10\" >1.5885</td> \n",
       "        <td id=\"T_ab5f485e_2f76_11e8_b2a2_f46d043d872drow1_col11\" class=\"data row1 col11\" >0.647145</td> \n",
       "        <td id=\"T_ab5f485e_2f76_11e8_b2a2_f46d043d872drow1_col12\" class=\"data row1 col12\" >9.16554</td> \n",
       "        <td id=\"T_ab5f485e_2f76_11e8_b2a2_f46d043d872drow1_col13\" class=\"data row1 col13\" >9.05805</td> \n",
       "    </tr>    <tr> \n",
       "        <th id=\"T_ab5f485e_2f76_11e8_b2a2_f46d043d872dlevel0_row2\" class=\"row_heading level0 row2\" >std</th> \n",
       "        <td id=\"T_ab5f485e_2f76_11e8_b2a2_f46d043d872drow2_col0\" class=\"data row2 col0\" >2.50202</td> \n",
       "        <td id=\"T_ab5f485e_2f76_11e8_b2a2_f46d043d872drow2_col1\" class=\"data row2 col1\" >0.140524</td> \n",
       "        <td id=\"T_ab5f485e_2f76_11e8_b2a2_f46d043d872drow2_col2\" class=\"data row2 col2\" >0.269207</td> \n",
       "        <td id=\"T_ab5f485e_2f76_11e8_b2a2_f46d043d872drow2_col3\" class=\"data row2 col3\" >6447.15</td> \n",
       "        <td id=\"T_ab5f485e_2f76_11e8_b2a2_f46d043d872drow2_col4\" class=\"data row2 col4\" >17.5037</td> \n",
       "        <td id=\"T_ab5f485e_2f76_11e8_b2a2_f46d043d872drow2_col5\" class=\"data row2 col5\" >7.91368</td> \n",
       "        <td id=\"T_ab5f485e_2f76_11e8_b2a2_f46d043d872drow2_col6\" class=\"data row2 col6\" >29.1407</td> \n",
       "        <td id=\"T_ab5f485e_2f76_11e8_b2a2_f46d043d872drow2_col7\" class=\"data row2 col7\" >21.1654</td> \n",
       "        <td id=\"T_ab5f485e_2f76_11e8_b2a2_f46d043d872drow2_col8\" class=\"data row2 col8\" >4.58827</td> \n",
       "        <td id=\"T_ab5f485e_2f76_11e8_b2a2_f46d043d872drow2_col9\" class=\"data row2 col9\" >8.15655</td> \n",
       "        <td id=\"T_ab5f485e_2f76_11e8_b2a2_f46d043d872drow2_col10\" class=\"data row2 col10\" >6.24253</td> \n",
       "        <td id=\"T_ab5f485e_2f76_11e8_b2a2_f46d043d872drow2_col11\" class=\"data row2 col11\" >2.65634</td> \n",
       "        <td id=\"T_ab5f485e_2f76_11e8_b2a2_f46d043d872drow2_col12\" class=\"data row2 col12\" >9.0559</td> \n",
       "        <td id=\"T_ab5f485e_2f76_11e8_b2a2_f46d043d872drow2_col13\" class=\"data row2 col13\" >9.18359</td> \n",
       "    </tr>    <tr> \n",
       "        <th id=\"T_ab5f485e_2f76_11e8_b2a2_f46d043d872dlevel0_row3\" class=\"row_heading level0 row3\" >min</th> \n",
       "        <td id=\"T_ab5f485e_2f76_11e8_b2a2_f46d043d872drow3_col0\" class=\"data row3 col0\" >0</td> \n",
       "        <td id=\"T_ab5f485e_2f76_11e8_b2a2_f46d043d872drow3_col1\" class=\"data row3 col1\" >0</td> \n",
       "        <td id=\"T_ab5f485e_2f76_11e8_b2a2_f46d043d872drow3_col2\" class=\"data row3 col2\" >0</td> \n",
       "        <td id=\"T_ab5f485e_2f76_11e8_b2a2_f46d043d872drow3_col3\" class=\"data row3 col3\" >0</td> \n",
       "        <td id=\"T_ab5f485e_2f76_11e8_b2a2_f46d043d872drow3_col4\" class=\"data row3 col4\" >0</td> \n",
       "        <td id=\"T_ab5f485e_2f76_11e8_b2a2_f46d043d872drow3_col5\" class=\"data row3 col5\" >0</td> \n",
       "        <td id=\"T_ab5f485e_2f76_11e8_b2a2_f46d043d872drow3_col6\" class=\"data row3 col6\" >0</td> \n",
       "        <td id=\"T_ab5f485e_2f76_11e8_b2a2_f46d043d872drow3_col7\" class=\"data row3 col7\" >0</td> \n",
       "        <td id=\"T_ab5f485e_2f76_11e8_b2a2_f46d043d872drow3_col8\" class=\"data row3 col8\" >0</td> \n",
       "        <td id=\"T_ab5f485e_2f76_11e8_b2a2_f46d043d872drow3_col9\" class=\"data row3 col9\" >0</td> \n",
       "        <td id=\"T_ab5f485e_2f76_11e8_b2a2_f46d043d872drow3_col10\" class=\"data row3 col10\" >0</td> \n",
       "        <td id=\"T_ab5f485e_2f76_11e8_b2a2_f46d043d872drow3_col11\" class=\"data row3 col11\" >0</td> \n",
       "        <td id=\"T_ab5f485e_2f76_11e8_b2a2_f46d043d872drow3_col12\" class=\"data row3 col12\" >-15</td> \n",
       "        <td id=\"T_ab5f485e_2f76_11e8_b2a2_f46d043d872drow3_col13\" class=\"data row3 col13\" >-15</td> \n",
       "    </tr>    <tr> \n",
       "        <th id=\"T_ab5f485e_2f76_11e8_b2a2_f46d043d872dlevel0_row4\" class=\"row_heading level0 row4\" >25%</th> \n",
       "        <td id=\"T_ab5f485e_2f76_11e8_b2a2_f46d043d872drow4_col0\" class=\"data row4 col0\" >0</td> \n",
       "        <td id=\"T_ab5f485e_2f76_11e8_b2a2_f46d043d872drow4_col1\" class=\"data row4 col1\" >0</td> \n",
       "        <td id=\"T_ab5f485e_2f76_11e8_b2a2_f46d043d872drow4_col2\" class=\"data row4 col2\" >0</td> \n",
       "        <td id=\"T_ab5f485e_2f76_11e8_b2a2_f46d043d872drow4_col3\" class=\"data row4 col3\" >377</td> \n",
       "        <td id=\"T_ab5f485e_2f76_11e8_b2a2_f46d043d872drow4_col4\" class=\"data row4 col4\" >0</td> \n",
       "        <td id=\"T_ab5f485e_2f76_11e8_b2a2_f46d043d872drow4_col5\" class=\"data row4 col5\" >0</td> \n",
       "        <td id=\"T_ab5f485e_2f76_11e8_b2a2_f46d043d872drow4_col6\" class=\"data row4 col6\" >6</td> \n",
       "        <td id=\"T_ab5f485e_2f76_11e8_b2a2_f46d043d872drow4_col7\" class=\"data row4 col7\" >1.3</td> \n",
       "        <td id=\"T_ab5f485e_2f76_11e8_b2a2_f46d043d872drow4_col8\" class=\"data row4 col8\" >0</td> \n",
       "        <td id=\"T_ab5f485e_2f76_11e8_b2a2_f46d043d872drow4_col9\" class=\"data row4 col9\" >0.7</td> \n",
       "        <td id=\"T_ab5f485e_2f76_11e8_b2a2_f46d043d872drow4_col10\" class=\"data row4 col10\" >0.0635</td> \n",
       "        <td id=\"T_ab5f485e_2f76_11e8_b2a2_f46d043d872drow4_col11\" class=\"data row4 col11\" >0.025</td> \n",
       "        <td id=\"T_ab5f485e_2f76_11e8_b2a2_f46d043d872drow4_col12\" class=\"data row4 col12\" >1</td> \n",
       "        <td id=\"T_ab5f485e_2f76_11e8_b2a2_f46d043d872drow4_col13\" class=\"data row4 col13\" >1</td> \n",
       "    </tr>    <tr> \n",
       "        <th id=\"T_ab5f485e_2f76_11e8_b2a2_f46d043d872dlevel0_row5\" class=\"row_heading level0 row5\" >50%</th> \n",
       "        <td id=\"T_ab5f485e_2f76_11e8_b2a2_f46d043d872drow5_col0\" class=\"data row5 col0\" >1</td> \n",
       "        <td id=\"T_ab5f485e_2f76_11e8_b2a2_f46d043d872drow5_col1\" class=\"data row5 col1\" >0</td> \n",
       "        <td id=\"T_ab5f485e_2f76_11e8_b2a2_f46d043d872drow5_col2\" class=\"data row5 col2\" >0</td> \n",
       "        <td id=\"T_ab5f485e_2f76_11e8_b2a2_f46d043d872drow5_col3\" class=\"data row5 col3\" >1100</td> \n",
       "        <td id=\"T_ab5f485e_2f76_11e8_b2a2_f46d043d872drow5_col4\" class=\"data row5 col4\" >5</td> \n",
       "        <td id=\"T_ab5f485e_2f76_11e8_b2a2_f46d043d872drow5_col5\" class=\"data row5 col5\" >1.79</td> \n",
       "        <td id=\"T_ab5f485e_2f76_11e8_b2a2_f46d043d872drow5_col6\" class=\"data row5 col6\" >20.6</td> \n",
       "        <td id=\"T_ab5f485e_2f76_11e8_b2a2_f46d043d872drow5_col7\" class=\"data row5 col7\" >5.71</td> \n",
       "        <td id=\"T_ab5f485e_2f76_11e8_b2a2_f46d043d872drow5_col8\" class=\"data row5 col8\" >1.5</td> \n",
       "        <td id=\"T_ab5f485e_2f76_11e8_b2a2_f46d043d872drow5_col9\" class=\"data row5 col9\" >4.76</td> \n",
       "        <td id=\"T_ab5f485e_2f76_11e8_b2a2_f46d043d872drow5_col10\" class=\"data row5 col10\" >0.58</td> \n",
       "        <td id=\"T_ab5f485e_2f76_11e8_b2a2_f46d043d872drow5_col11\" class=\"data row5 col11\" >0.229</td> \n",
       "        <td id=\"T_ab5f485e_2f76_11e8_b2a2_f46d043d872drow5_col12\" class=\"data row5 col12\" >10</td> \n",
       "        <td id=\"T_ab5f485e_2f76_11e8_b2a2_f46d043d872drow5_col13\" class=\"data row5 col13\" >9</td> \n",
       "    </tr>    <tr> \n",
       "        <th id=\"T_ab5f485e_2f76_11e8_b2a2_f46d043d872dlevel0_row6\" class=\"row_heading level0 row6\" >75%</th> \n",
       "        <td id=\"T_ab5f485e_2f76_11e8_b2a2_f46d043d872drow6_col0\" class=\"data row6 col0\" >3</td> \n",
       "        <td id=\"T_ab5f485e_2f76_11e8_b2a2_f46d043d872drow6_col1\" class=\"data row6 col1\" >0</td> \n",
       "        <td id=\"T_ab5f485e_2f76_11e8_b2a2_f46d043d872drow6_col2\" class=\"data row6 col2\" >0</td> \n",
       "        <td id=\"T_ab5f485e_2f76_11e8_b2a2_f46d043d872drow6_col3\" class=\"data row6 col3\" >1674</td> \n",
       "        <td id=\"T_ab5f485e_2f76_11e8_b2a2_f46d043d872drow6_col4\" class=\"data row6 col4\" >20</td> \n",
       "        <td id=\"T_ab5f485e_2f76_11e8_b2a2_f46d043d872drow6_col5\" class=\"data row6 col5\" >7.14</td> \n",
       "        <td id=\"T_ab5f485e_2f76_11e8_b2a2_f46d043d872drow6_col6\" class=\"data row6 col6\" >58.33</td> \n",
       "        <td id=\"T_ab5f485e_2f76_11e8_b2a2_f46d043d872drow6_col7\" class=\"data row6 col7\" >24</td> \n",
       "        <td id=\"T_ab5f485e_2f76_11e8_b2a2_f46d043d872drow6_col8\" class=\"data row6 col8\" >3.6</td> \n",
       "        <td id=\"T_ab5f485e_2f76_11e8_b2a2_f46d043d872drow6_col9\" class=\"data row6 col9\" >10</td> \n",
       "        <td id=\"T_ab5f485e_2f76_11e8_b2a2_f46d043d872drow6_col10\" class=\"data row6 col10\" >1.3716</td> \n",
       "        <td id=\"T_ab5f485e_2f76_11e8_b2a2_f46d043d872drow6_col11\" class=\"data row6 col11\" >0.541</td> \n",
       "        <td id=\"T_ab5f485e_2f76_11e8_b2a2_f46d043d872drow6_col12\" class=\"data row6 col12\" >16</td> \n",
       "        <td id=\"T_ab5f485e_2f76_11e8_b2a2_f46d043d872drow6_col13\" class=\"data row6 col13\" >16</td> \n",
       "    </tr>    <tr> \n",
       "        <th id=\"T_ab5f485e_2f76_11e8_b2a2_f46d043d872dlevel0_row7\" class=\"row_heading level0 row7\" >max</th> \n",
       "        <td id=\"T_ab5f485e_2f76_11e8_b2a2_f46d043d872drow7_col0\" class=\"data row7 col0\" >31</td> \n",
       "        <td id=\"T_ab5f485e_2f76_11e8_b2a2_f46d043d872drow7_col1\" class=\"data row7 col1\" >2</td> \n",
       "        <td id=\"T_ab5f485e_2f76_11e8_b2a2_f46d043d872drow7_col2\" class=\"data row7 col2\" >6</td> \n",
       "        <td id=\"T_ab5f485e_2f76_11e8_b2a2_f46d043d872drow7_col3\" class=\"data row7 col3\" >3.25137e+06</td> \n",
       "        <td id=\"T_ab5f485e_2f76_11e8_b2a2_f46d043d872drow7_col4\" class=\"data row7 col4\" >100</td> \n",
       "        <td id=\"T_ab5f485e_2f76_11e8_b2a2_f46d043d872drow7_col5\" class=\"data row7 col5\" >100</td> \n",
       "        <td id=\"T_ab5f485e_2f76_11e8_b2a2_f46d043d872drow7_col6\" class=\"data row7 col6\" >100</td> \n",
       "        <td id=\"T_ab5f485e_2f76_11e8_b2a2_f46d043d872drow7_col7\" class=\"data row7 col7\" >100</td> \n",
       "        <td id=\"T_ab5f485e_2f76_11e8_b2a2_f46d043d872drow7_col8\" class=\"data row7 col8\" >100</td> \n",
       "        <td id=\"T_ab5f485e_2f76_11e8_b2a2_f46d043d872drow7_col9\" class=\"data row7 col9\" >100</td> \n",
       "        <td id=\"T_ab5f485e_2f76_11e8_b2a2_f46d043d872drow7_col10\" class=\"data row7 col10\" >100</td> \n",
       "        <td id=\"T_ab5f485e_2f76_11e8_b2a2_f46d043d872drow7_col11\" class=\"data row7 col11\" >100</td> \n",
       "        <td id=\"T_ab5f485e_2f76_11e8_b2a2_f46d043d872drow7_col12\" class=\"data row7 col12\" >40</td> \n",
       "        <td id=\"T_ab5f485e_2f76_11e8_b2a2_f46d043d872drow7_col13\" class=\"data row7 col13\" >40</td> \n",
       "    </tr></tbody> \n",
       "</table> "
      ],
      "text/plain": [
       "<pandas.io.formats.style.Styler at 0x2b01121ca58>"
      ]
     },
     "execution_count": 22,
     "metadata": {},
     "output_type": "execute_result"
    }
   ],
   "source": [
    "df.describe().style\n"
   ]
  },
  {
   "cell_type": "code",
   "execution_count": null,
   "metadata": {},
   "outputs": [],
   "source": [
    "##Remove rows where palm oil presence is NaN or 0"
   ]
  },
  {
   "cell_type": "code",
   "execution_count": 97,
   "metadata": {},
   "outputs": [
    {
     "name": "stdout",
     "output_type": "stream",
     "text": [
      "(3887, 28)\n"
     ]
    }
   ],
   "source": [
    "df_palmoil=df[df.categories_fr.notna() & df.ingredients_from_palm_oil_n.notna() & df.ingredients_from_palm_oil_n!=0]\n",
    "print(df_palmoil.shape)"
   ]
  },
  {
   "cell_type": "code",
   "execution_count": 98,
   "metadata": {},
   "outputs": [],
   "source": [
    "##Add a simpler categories column: gen_categories, it only takes the main category tag for each product"
   ]
  },
  {
   "cell_type": "code",
   "execution_count": 108,
   "metadata": {},
   "outputs": [],
   "source": [
    "df_palmoil['gen_categories']=df_palmoil['categories_fr'].str.split(',').str[0]\n",
    "for x in df_palmoil['gen_categories'].unique():\n",
    "    if df_palmoil['gen_categories'].value_counts()[x]<60:\n",
    "        df_palmoil['gen_categories'].replace(to_replace=x,value='Autres',inplace=True)\n",
    "        "
   ]
  },
  {
   "cell_type": "code",
   "execution_count": 109,
   "metadata": {},
   "outputs": [
    {
     "name": "stdout",
     "output_type": "stream",
     "text": [
      "Snacks sucrés                              1889\n",
      "Aliments et boissons à base de végétaux     704\n",
      "Autres                                      322\n",
      "Snacks salés                                152\n",
      "Plats préparés                              111\n",
      "Produits à tartiner                         108\n",
      "Desserts                                     87\n",
      "Surgelés                                     83\n",
      "Epicerie                                     80\n",
      "Frais                                        80\n",
      "Gaufres                                      79\n",
      "Pâtes à tarte                                67\n",
      "Produits déshydratés                         64\n",
      "Aliments pour bébé                           61\n",
      "Name: gen_categories, dtype: int64\n"
     ]
    }
   ],
   "source": [
    "print(df_palmoil['gen_categories'].value_counts())"
   ]
  },
  {
   "cell_type": "code",
   "execution_count": 110,
   "metadata": {},
   "outputs": [
    {
     "data": {
      "text/plain": [
       "Text(0,0.5,'')"
      ]
     },
     "execution_count": 110,
     "metadata": {},
     "output_type": "execute_result"
    },
    {
     "data": {
      "image/png": "[encoded data removed]",
      "text/plain": [
       "<matplotlib.figure.Figure at 0x2b00081cd68>"
      ]
     },
     "metadata": {},
     "output_type": "display_data"
    }
   ],
   "source": [
    "\n",
    "df_palmoil['gen_categories'].value_counts().plot.pie(figsize=(6,6))\n",
    "plt.ylabel('')"
   ]
  },
  {
   "cell_type": "code",
   "execution_count": null,
   "metadata": {},
   "outputs": [],
   "source": []
  }
 ],
 "metadata": {
  "kernelspec": {
   "display_name": "Python 3",
   "language": "python",
   "name": "python3"
  },
  "language_info": {
   "codemirror_mode": {
    "name": "ipython",
    "version": 3
   },
   "file_extension": ".py",
   "mimetype": "text/x-python",
   "name": "python",
   "nbconvert_exporter": "python",
   "pygments_lexer": "ipython3",
   "version": "3.6.4"
  }
 },
 "nbformat": 4,
 "nbformat_minor": 2
}
