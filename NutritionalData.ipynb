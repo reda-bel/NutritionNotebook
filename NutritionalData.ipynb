{
 "cells": [
  {
   "cell_type": "markdown",
   "metadata": {},
   "source": [
    "# Analyse de Données Nutritionnelles"
   ]
  },
  {
   "cell_type": "code",
   "execution_count": 1,
   "metadata": {},
   "outputs": [
    {
     "name": "stdout",
     "output_type": "stream",
     "text": [
      "(320772, 162)\n",
      "Index(['code', 'url', 'creator', 'created_t', 'created_datetime',\n",
      "       'last_modified_t', 'last_modified_datetime', 'product_name',\n",
      "       'generic_name', 'quantity',\n",
      "       ...\n",
      "       'ph_100g', 'fruits-vegetables-nuts_100g',\n",
      "       'collagen-meat-protein-ratio_100g', 'cocoa_100g', 'chlorophyl_100g',\n",
      "       'carbon-footprint_100g', 'nutrition-score-fr_100g',\n",
      "       'nutrition-score-uk_100g', 'glycemic-index_100g',\n",
      "       'water-hardness_100g'],\n",
      "      dtype='object', length=162)\n"
     ]
    }
   ],
   "source": [
    "# coding: utf-8\n",
    "%matplotlib inline\n",
    "import warnings # current version of seaborn generates a bunch of warnings that we'll ignore\n",
    "warnings.filterwarnings(\"ignore\")\n",
    "import seaborn as sbn\n",
    "import matplotlib.pyplot as plt\n",
    "import pandas as pd\n",
    "# read the csv file\n",
    "df = pd.read_csv(\"foodfacts.csv\", sep='\\t',low_memory=False)\n",
    "\n",
    "# Print the shape of df\n",
    "print(df.shape)\n",
    "\n",
    "# Print the columns of df\n",
    "print(df.columns)\n",
    "\n",
    "\n",
    "\n",
    "\n",
    "\n"
   ]
  },
  {
   "cell_type": "code",
   "execution_count": 2,
   "metadata": {},
   "outputs": [],
   "source": [
    "###Remove Columns with insufficient data (more than 50% of products don't have the value) and columns that won't be retained for the analysis for the analysis\n",
    "###remove all rows where the nutritional data is insufficient (NaN for all the necessary info) in the curated dataframe"
   ]
  },
  {
   "cell_type": "code",
   "execution_count": 21,
   "metadata": {},
   "outputs": [
    {
     "name": "stdout",
     "output_type": "stream",
     "text": [
      "Index(['code', 'url', 'creator', 'created_t', 'created_datetime',\n",
      "       'last_modified_t', 'last_modified_datetime', 'product_name', 'brands',\n",
      "       'brands_tags', 'categories', 'categories_fr', 'countries',\n",
      "       'countries_tags', 'countries_fr', 'ingredients_text', 'serving_size',\n",
      "       'additives_n', 'additives', 'ingredients_from_palm_oil_n',\n",
      "       'ingredients_that_may_be_from_palm_oil_n', 'nutrition_grade_fr',\n",
      "       'states', 'states_tags', 'states_fr', 'energy_100g', 'fat_100g',\n",
      "       'saturated-fat_100g', 'carbohydrates_100g', 'sugars_100g', 'fiber_100g',\n",
      "       'proteins_100g', 'salt_100g', 'sodium_100g', 'nutrition-score-fr_100g',\n",
      "       'nutrition-score-uk_100g'],\n",
      "      dtype='object')\n"
     ]
    }
   ],
   "source": [
    "df_edited=df.copy()\n",
    "\n",
    "\n",
    "#remove incoherent data from these columns (values have to be positive and inferior to 100)\n",
    "for column in ['fat_100g', 'saturated-fat_100g','carbohydrates_100g', 'sugars_100g', 'fiber_100g', 'proteins_100g','salt_100g', 'sodium_100g']:\n",
    "    df_edited.loc[df_edited[column]<0, column]=None\n",
    "    df_edited.loc[df_edited[column]>100, column]=None\n",
    "\n",
    "\n",
    "for column in df.drop(['categories_fr','categories'], axis=1).columns.values.tolist():\n",
    "    \n",
    "    total_rows=df_edited.shape[0]\n",
    "    nonempty_rows=df_edited[[column]].count().sum()\n",
    "    if (nonempty_rows/total_rows)<=0.5:\n",
    "        del df_edited[column]\n",
    "\n",
    "print(df_edited.columns)\n",
    "\n",
    "for col in ['url', 'creator', 'created_t', 'created_datetime','last_modified_t', 'last_modified_datetime', 'brands','brands_tags', 'countries', 'countries_tags', 'countries_fr','ingredients_text', 'serving_size', 'additives_n', 'additives','ingredients_from_palm_oil_n','ingredients_that_may_be_from_palm_oil_n','states', 'states_tags', 'states_fr','nutrition-score-uk_100g']:\n",
    "    del df_edited[col]\n",
    "\n",
    "df_edited=df_edited.dropna(thresh=3)\n",
    "\n",
    "\n",
    "\n",
    "\n",
    "\n",
    "    \n",
    "\n",
    "        \n",
    "\n",
    "\n"
   ]
  },
  {
   "cell_type": "code",
   "execution_count": 22,
   "metadata": {},
   "outputs": [
    {
     "name": "stdout",
     "output_type": "stream",
     "text": [
      "        energy_100g       fat_100g  saturated-fat_100g  carbohydrates_100g  \\\n",
      "count  2.611030e+05  243887.000000       229551.000000       243569.000000   \n",
      "mean   1.141879e+03      12.725256            5.125925           32.055323   \n",
      "std    6.447260e+03      17.503695            7.913684           29.140680   \n",
      "min    0.000000e+00       0.000000            0.000000            0.000000   \n",
      "25%    3.770000e+02       0.000000            0.000000            6.000000   \n",
      "50%    1.100000e+03       5.000000            1.790000           20.600000   \n",
      "75%    1.674000e+03      20.000000            7.140000           58.330000   \n",
      "max    3.251373e+06     100.000000          100.000000          100.000000   \n",
      "\n",
      "         sugars_100g     fiber_100g  proteins_100g      salt_100g  \\\n",
      "count  244951.000000  200881.000000  259918.000000  255351.000000   \n",
      "mean       15.985514       2.832473       7.079409       1.588503   \n",
      "std        21.165381       4.588272       8.156552       6.242543   \n",
      "min         0.000000       0.000000       0.000000       0.000000   \n",
      "25%         1.300000       0.000000       0.700000       0.063500   \n",
      "50%         5.710000       1.500000       4.760000       0.580000   \n",
      "75%        24.000000       3.600000      10.000000       1.371600   \n",
      "max       100.000000     100.000000     100.000000     100.000000   \n",
      "\n",
      "         sodium_100g  nutrition-score-fr_100g  \n",
      "count  255429.000000            221210.000000  \n",
      "mean        0.647145                 9.165535  \n",
      "std         2.656343                 9.055903  \n",
      "min         0.000000               -15.000000  \n",
      "25%         0.025000                 1.000000  \n",
      "50%         0.229000                10.000000  \n",
      "75%         0.541000                16.000000  \n",
      "max       100.000000                40.000000  \n",
      "code                       True\n",
      "product_name               True\n",
      "categories                 True\n",
      "categories_fr              True\n",
      "nutrition_grade_fr         True\n",
      "energy_100g                True\n",
      "fat_100g                   True\n",
      "saturated-fat_100g         True\n",
      "carbohydrates_100g         True\n",
      "sugars_100g                True\n",
      "fiber_100g                 True\n",
      "proteins_100g              True\n",
      "salt_100g                  True\n",
      "sodium_100g                True\n",
      "nutrition-score-fr_100g    True\n",
      "dtype: bool\n",
      "Index(['code', 'product_name', 'categories', 'categories_fr',\n",
      "       'nutrition_grade_fr', 'energy_100g', 'fat_100g', 'saturated-fat_100g',\n",
      "       'carbohydrates_100g', 'sugars_100g', 'fiber_100g', 'proteins_100g',\n",
      "       'salt_100g', 'sodium_100g', 'nutrition-score-fr_100g'],\n",
      "      dtype='object')\n",
      "            code                       product_name categories categories_fr  \\\n",
      "1  0000000004530     Banana Chips Sweetened (Whole)        NaN           NaN   \n",
      "2  0000000004559                            Peanuts        NaN           NaN   \n",
      "3  0000000016087             Organic Salted Nut Mix        NaN           NaN   \n",
      "4  0000000016094                    Organic Polenta        NaN           NaN   \n",
      "5  0000000016100  Breadshop Honey Gone Nuts Granola        NaN           NaN   \n",
      "\n",
      "  nutrition_grade_fr  energy_100g  fat_100g  saturated-fat_100g  \\\n",
      "1                  d       2243.0     28.57               28.57   \n",
      "2                  b       1941.0     17.86                0.00   \n",
      "3                  d       2540.0     57.14                5.36   \n",
      "4                NaN       1552.0      1.43                 NaN   \n",
      "5                NaN       1933.0     18.27                1.92   \n",
      "\n",
      "   carbohydrates_100g  sugars_100g  fiber_100g  proteins_100g  salt_100g  \\\n",
      "1               64.29        14.29         3.6           3.57    0.00000   \n",
      "2               60.71        17.86         7.1          17.86    0.63500   \n",
      "3               17.86         3.57         7.1          17.86    1.22428   \n",
      "4               77.14          NaN         5.7           8.57        NaN   \n",
      "5               63.46        11.54         7.7          13.46        NaN   \n",
      "\n",
      "   sodium_100g  nutrition-score-fr_100g  \n",
      "1        0.000                     14.0  \n",
      "2        0.250                      0.0  \n",
      "3        0.482                     12.0  \n",
      "4          NaN                      NaN  \n",
      "5          NaN                      NaN  \n"
     ]
    }
   ],
   "source": [
    "print(df_edited.describe())\n",
    "print(df_edited.isnull().any())\n",
    "print(df_edited.columns)\n",
    "print(df_edited.head())"
   ]
  },
  {
   "cell_type": "code",
   "execution_count": 11,
   "metadata": {},
   "outputs": [
    {
     "ename": "AttributeError",
     "evalue": "module 'seaborn' has no attribute 'hist'",
     "output_type": "error",
     "traceback": [
      "\u001b[1;31m---------------------------------------------------------------------------\u001b[0m",
      "\u001b[1;31mAttributeError\u001b[0m                            Traceback (most recent call last)",
      "\u001b[1;32m<ipython-input-11-9d1dd1e79b90>\u001b[0m in \u001b[0;36m<module>\u001b[1;34m()\u001b[0m\n\u001b[0;32m      1\u001b[0m \u001b[0msample\u001b[0m\u001b[1;33m=\u001b[0m\u001b[0mdf_edited\u001b[0m\u001b[1;33m.\u001b[0m\u001b[0mhead\u001b[0m\u001b[1;33m(\u001b[0m\u001b[1;36m500\u001b[0m\u001b[1;33m)\u001b[0m\u001b[1;33m\u001b[0m\u001b[0m\n\u001b[1;32m----> 2\u001b[1;33m \u001b[0max\u001b[0m\u001b[1;33m=\u001b[0m\u001b[0msbn\u001b[0m\u001b[1;33m.\u001b[0m\u001b[0mhist\u001b[0m\u001b[1;33m(\u001b[0m\u001b[0mx\u001b[0m\u001b[1;33m=\u001b[0m\u001b[1;34m'sugars_100g'\u001b[0m\u001b[1;33m,\u001b[0m\u001b[0my\u001b[0m\u001b[1;33m=\u001b[0m\u001b[1;34m'nutrition-score-fr_100g'\u001b[0m\u001b[1;33m,\u001b[0m\u001b[0mdata\u001b[0m\u001b[1;33m=\u001b[0m\u001b[0msample\u001b[0m\u001b[1;33m)\u001b[0m\u001b[1;33m\u001b[0m\u001b[0m\n\u001b[0m",
      "\u001b[1;31mAttributeError\u001b[0m: module 'seaborn' has no attribute 'hist'"
     ]
    }
   ],
   "source": [
    "sample=df_edited.head(500)\n",
    "ax=sbn.boxplot(x='sugars_100g',y='nutrition-score-fr_100g',data=sample)\n"
   ]
  },
  {
   "cell_type": "code",
   "execution_count": 1,
   "metadata": {},
   "outputs": [],
   "source": []
  },
  {
   "cell_type": "code",
   "execution_count": 1,
   "metadata": {},
   "outputs": [],
   "source": []
  },
  {
   "cell_type": "code",
   "execution_count": 1,
   "metadata": {},
   "outputs": [],
   "source": []
  },
  {
   "cell_type": "code",
   "execution_count": 1,
   "metadata": {},
   "outputs": [],
   "source": []
  },
  {
   "cell_type": "code",
   "execution_count": null,
   "metadata": {},
   "outputs": [],
   "source": []
  }
 ],
 "metadata": {
  "kernelspec": {
   "display_name": "Python 3",
   "language": "python",
   "name": "python3"
  },
  "language_info": {
   "codemirror_mode": {
    "name": "ipython",
    "version": 3
   },
   "file_extension": ".py",
   "mimetype": "text/x-python",
   "name": "python",
   "nbconvert_exporter": "python",
   "pygments_lexer": "ipython3",
   "version": "3.6.4"
  }
 },
 "nbformat": 4,
 "nbformat_minor": 1
}
